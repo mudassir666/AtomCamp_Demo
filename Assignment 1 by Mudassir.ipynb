{
 "cells": [
  {
   "cell_type": "markdown",
   "id": "ba61fd89",
   "metadata": {},
   "source": [
    "Task 1: Variables and Data Types"
   ]
  },
  {
   "cell_type": "code",
   "execution_count": 3,
   "id": "565a4c10",
   "metadata": {},
   "outputs": [
    {
     "name": "stdout",
     "output_type": "stream",
     "text": [
      "Mudassir 24 True\n",
      "Mudassir Smith 49 False\n"
     ]
    }
   ],
   "source": [
    "# a) Create three variables: one for storing your age (integer), one for your name (string), and one to check if you are a student (Boolean). Print the variables. \n",
    "\n",
    "name = 'Mudassir'\n",
    "age = 24\n",
    "student = True\n",
    "\n",
    "print(name,age,student)\n",
    "\n",
    "\n",
    "# b) Perform the following operations and print the results:\n",
    "\n",
    "age += 25\n",
    "name += ' Smith'\n",
    "student = False\n",
    "\n",
    "print(name,age,student)"
   ]
  },
  {
   "cell_type": "markdown",
   "id": "82b6fb18",
   "metadata": {},
   "source": [
    "Task 2: Expressions and Operators"
   ]
  },
  {
   "cell_type": "code",
   "execution_count": 8,
   "id": "ad3a0805",
   "metadata": {},
   "outputs": [
    {
     "name": "stdout",
     "output_type": "stream",
     "text": [
      "Area =  17.875\n",
      "Fahrenheit =  3.6\n",
      "Area of a circle =  78.53975\n"
     ]
    }
   ],
   "source": [
    "# a) Rectangle output\n",
    "\n",
    "width = 5.5\n",
    "height = 3.25\n",
    "\n",
    "area = width*height\n",
    "\n",
    "print('Area = ',area)\n",
    "\n",
    "# b) Create a temperature variable in Celsius\n",
    "\n",
    "celsius = 2\n",
    "\n",
    "fahrenheit = (celsius*9/5)\n",
    "\n",
    "print('Fahrenheit = ',fahrenheit)\n",
    "\n",
    "# c) Calculate the area of a circle with this radius and store it in a variable called area\n",
    "\n",
    "radius = 5\n",
    "\n",
    "area = 3.14159 * (radius**2)\n",
    "\n",
    "print('Area of a circle = ',area)"
   ]
  },
  {
   "cell_type": "markdown",
   "id": "6a2c6e9b",
   "metadata": {},
   "source": [
    "Task 3: Introduction to Data Structures"
   ]
  },
  {
   "cell_type": "code",
   "execution_count": 9,
   "id": "c93e1efa",
   "metadata": {},
   "outputs": [
    {
     "name": "stdout",
     "output_type": "stream",
     "text": [
      "List of Fruits =  ['apple', 'banana', 'orange', 'grape', 'kiwi']\n",
      "Tuple of Months =  ('Jan', 'Feb', 'Mar')\n"
     ]
    }
   ],
   "source": [
    "# a) Create a list called \"fruits\" containing the following fruits: \"apple,\" \"banana,\" \"orange,\" \"grape,\" and \"kiwi.\" Print the list.\n",
    "\n",
    "fruits = ['apple','banana','orange','grape','kiwi']\n",
    "\n",
    "print('List of Fruits = ',fruits)\n",
    "\n",
    "# b) Create a tuple named \"months\" with the names of the first three months of the year. Print the tuple.\n",
    "\n",
    "months = ('Jan','Feb','Mar')\n",
    "\n",
    "print('Tuple of Months = ',months)"
   ]
  },
  {
   "cell_type": "markdown",
   "id": "dc59943e",
   "metadata": {},
   "source": [
    "Task 4: List Manipulation"
   ]
  },
  {
   "cell_type": "code",
   "execution_count": 15,
   "id": "02388d28",
   "metadata": {},
   "outputs": [
    {
     "name": "stdout",
     "output_type": "stream",
     "text": [
      "sum of the list =  426\n",
      "average of the list =  53.25\n",
      "updated fruit list =  ['banana', 'orange', 'grape']\n"
     ]
    }
   ],
   "source": [
    "# a) Given the list of numbers below, write a Python program to calculate the sum and average of these numbers. Print both results.\n",
    "\n",
    "numbers = [12, 34, 45, 67, 89, 100, 23, 56]\n",
    "average = 0\n",
    "summ = 0\n",
    "no_elements = len(numbers)\n",
    "    \n",
    "for n in numbers:\n",
    "    summ += n\n",
    "    \n",
    "average = summ/no_elements\n",
    "\n",
    "print('sum of the list = ',summ)\n",
    "print('average of the list = ',average)\n",
    "\n",
    "\n",
    "# b) Remove the first and last elements from the \"fruits\" list created earlier. Print the updated list.\n",
    "  \n",
    "fruits = ['apple','banana','orange','grape','kiwi']\n",
    "\n",
    "fruits.pop(0)\n",
    "fruits.pop(-1)\n",
    "\n",
    "print('updated fruit list = ',fruits)"
   ]
  },
  {
   "cell_type": "markdown",
   "id": "38dc2b8c",
   "metadata": {},
   "source": [
    "Task 5: Dictionary Operations"
   ]
  },
  {
   "cell_type": "code",
   "execution_count": 19,
   "id": "89fe3c87",
   "metadata": {},
   "outputs": [
    {
     "name": "stdout",
     "output_type": "stream",
     "text": [
      "list of Capitals =  {'USA': 'Washington D.C.', 'France': 'Paris', 'Japan': 'Tokyo'}\n",
      "Updated list of Capitals =  {'USA': 'Washington D.C.', 'France': 'Paris', 'Japan': 'Tokyo', 'Germany': 'Berlin'}\n",
      "France is in the dictionary\n"
     ]
    }
   ],
   "source": [
    "# a) Create a dictionary named \"capitals\" with three key-value pairs: \"USA\" - \"Washington D.C.,\" \"France\" - \"Paris,\" and \"Japan\" - \"Tokyo.\" Print the dictionary.\n",
    "\n",
    "capitals = {\"USA\":\"Washington D.C.\", \"France\":\"Paris\",\"Japan\":\"Tokyo\"}\n",
    "print('list of Capitals = ',capitals)\n",
    "\n",
    "# b) Add a new country and its capital to the \"capitals\" dictionary. The country is \"Germany,\" and the capital is \"Berlin.\" Print the updated dictionary.\n",
    "\n",
    "capitals['Germany']='Berlin'\n",
    "print('Updated list of Capitals = ',capitals)\n",
    "\n",
    "# c) Check if \"France\" exists in the \"capitals\" dictionary. If it does, print \"France is in the dictionary,\" otherwise, print \"France is not in the dictionary. \n",
    "\n",
    "if \"France\" in capitals:\n",
    "    print(\"France is in the dictionary\")\n",
    "    \n",
    "else:\n",
    "    print(\"France is not in the dictionary\")\n"
   ]
  },
  {
   "cell_type": "markdown",
   "id": "3f681795",
   "metadata": {},
   "source": [
    "Task 6: Comparison Operators, Logical Operators and If/Else:"
   ]
  },
  {
   "cell_type": "code",
   "execution_count": 30,
   "id": "b6286cdb",
   "metadata": {},
   "outputs": [
    {
     "name": "stdout",
     "output_type": "stream",
     "text": [
      "Enter a number: 2\n",
      "The number is even.\n",
      "Eligible for admission.\n"
     ]
    }
   ],
   "source": [
    "\n",
    "# a) Create a variable called number that takes user input (we studied the input() function)\n",
    "\n",
    "number = int(input(\"Enter a number: \"))\n",
    "\n",
    "if number % 2 == 0:\n",
    "    print(\"The number is even.\")\n",
    "    \n",
    "else:\n",
    "    print(\"The number is odd.\")\n",
    "    \n",
    "    \n",
    "# b) Create two variables called age and GPA. Give them values of your choice.\n",
    "\n",
    "age = 24\n",
    "GPA = 3.4\n",
    "\n",
    "if age>=18 and GPA>= 3.0:\n",
    "    print(\"Eligible for admission.\")\n",
    "    \n",
    "else:\n",
    "    print(\"Not eligible for admission.\")"
   ]
  },
  {
   "cell_type": "markdown",
   "id": "8ec2f4fc",
   "metadata": {},
   "source": [
    "Task 7: Advanced Data Types"
   ]
  },
  {
   "cell_type": "code",
   "execution_count": 31,
   "id": "4381bfe8",
   "metadata": {},
   "outputs": [
    {
     "name": "stdout",
     "output_type": "stream",
     "text": [
      "The set of fruits is:  {'apple', 'grape', 'banana', 'orange', 'kiwi'}\n",
      "Union: {1, 2, 3, 4, 5, 6, 7}\n",
      "Intersection: {3, 4, 5}\n",
      "Difference: {1, 2}\n",
      "Is set1 a subset of set2?  False\n"
     ]
    }
   ],
   "source": [
    "# a) Create a set named \"fruits_set\" containing the following fruits: \"apple,\" \"banana,\" \"orange,\" \n",
    "\n",
    "fruits_set = {\"apple\", \"banana\", \"orange\", \"grape\", \"kiwi\"}\n",
    "print(\"The set of fruits is: \", fruits_set)\n",
    "\n",
    "# b) Given two sets:\n",
    "\n",
    "\n",
    "set1 = {1, 2, 3, 4, 5}\n",
    "set2 = {3, 4, 5, 6, 7}\n",
    "\n",
    "union = set1 | set2\n",
    "print(\"Union:\", union)\n",
    "\n",
    "intersection = set1 & set2\n",
    "print(\"Intersection:\", intersection)\n",
    "\n",
    "diff = set1 - set2\n",
    "print(\"Difference:\", diff)\n",
    "\n",
    "subset = set1 <= set2\n",
    "print(\"Is set1 a subset of set2? \", subset)"
   ]
  },
  {
   "cell_type": "markdown",
   "id": "d660d75f",
   "metadata": {},
   "source": [
    "Task 8: Strings Manipulation"
   ]
  },
  {
   "cell_type": "code",
   "execution_count": 27,
   "id": "2bb5e603",
   "metadata": {},
   "outputs": [
    {
     "name": "stdout",
     "output_type": "stream",
     "text": [
      "Length of the sentence =  39\n",
      "Uppercase String =  PYTHON PROGRAMMING IS FUN AND POWERFUL!\n",
      "Replace of fun =  Python programming is exciting and powerful!\n",
      "String  contains Python word\n",
      "List of Words in string =  ['Python', 'programming', 'is', 'fun', 'and', 'powerful!']\n"
     ]
    }
   ],
   "source": [
    "# a) Create a string variable containing the following sentence:\"Python programming is fun and powerful!\"\n",
    "\n",
    "sentence = \"Python programming is fun and powerful!\"\n",
    "\n",
    "# 1) Find the length of the string.\n",
    "\n",
    "print('Length of the sentence = ',len(sentence))\n",
    "\n",
    "# 2) Convert the string to uppercase\n",
    "\n",
    "print('Uppercase String = ',sentence.upper())\n",
    "\n",
    "# 3) Replace \"fun\" with \"exciting.\n",
    "\n",
    "print('Replace of fun = ',sentence.replace('fun','exciting'))\n",
    "\n",
    "# 4)  Check if the string contains the word \"Python\n",
    "\n",
    "if 'Python' in sentence:\n",
    "    print('String  contains Python word')\n",
    "else:\n",
    "    print('String does not contain Python word')\n",
    "    \n",
    "# 5) Split the string into a list of words.\n",
    "\n",
    "listOfWords = sentence.split()\n",
    "\n",
    "print('List of Words in string = ',listOfWords)"
   ]
  },
  {
   "cell_type": "code",
   "execution_count": null,
   "id": "0acaa1e0",
   "metadata": {},
   "outputs": [],
   "source": []
  }
 ],
 "metadata": {
  "kernelspec": {
   "display_name": "Python 3 (ipykernel)",
   "language": "python",
   "name": "python3"
  },
  "language_info": {
   "codemirror_mode": {
    "name": "ipython",
    "version": 3
   },
   "file_extension": ".py",
   "mimetype": "text/x-python",
   "name": "python",
   "nbconvert_exporter": "python",
   "pygments_lexer": "ipython3",
   "version": "3.11.7"
  }
 },
 "nbformat": 4,
 "nbformat_minor": 5
}
