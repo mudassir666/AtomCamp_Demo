{
  "cells": [
    {
      "cell_type": "markdown",
      "id": "2d7e6217",
      "metadata": {
        "id": "2d7e6217"
      },
      "source": [
        "##### 2D lists"
      ]
    },
    {
      "cell_type": "code",
      "source": [
        "t=[\"mahnoor\",2,3,4,5] #whole numbers 4 elements\n",
        "print(t[0])\n",
        "a=(2,3,4,5)"
      ],
      "metadata": {
        "colab": {
          "base_uri": "https://localhost:8080/"
        },
        "id": "Ela-4j2BXqCP",
        "outputId": "635fb918-0561-4cd8-d8e8-4dff13f89a10"
      },
      "id": "Ela-4j2BXqCP",
      "execution_count": null,
      "outputs": [
        {
          "output_type": "stream",
          "name": "stdout",
          "text": [
            "mahnoor\n"
          ]
        }
      ]
    },
    {
      "cell_type": "code",
      "execution_count": null,
      "id": "33fcde76",
      "metadata": {
        "id": "33fcde76",
        "outputId": "4b57984a-9778-4bdf-9730-3e421c8fd36c"
      },
      "outputs": [
        {
          "name": "stdout",
          "output_type": "stream",
          "text": [
            "[11, 12, 5, 2]\n",
            "10\n"
          ]
        }
      ],
      "source": [
        "T = [[11, 12, 5, 2], [15, 6,10], [10, 8, 12, 5], [12,15,8,6]]\n",
        "\n",
        "#The data elements in two dimesnional arrays can be accessed using two indices\n",
        "\n",
        "print(T[0])\n",
        "\n",
        "print(T[1][2])"
      ]
    },
    {
      "cell_type": "code",
      "execution_count": null,
      "id": "4fc155f2",
      "metadata": {
        "id": "4fc155f2",
        "outputId": "ab24611e-6f2f-4fc5-aa4c-4e69d0363de6"
      },
      "outputs": [
        {
          "name": "stdout",
          "output_type": "stream",
          "text": [
            "[[11, 12, 5, 2], [15, 6, 10], [0, 5, 11, 13, 6], [10, 8, 12, 5], [12, 15, 8, 6]]\n"
          ]
        }
      ],
      "source": [
        "# new data element is inserted at index position 2.\n",
        "\n",
        "T.insert(2, [0,5,11,13,6])\n",
        "print(T)"
      ]
    },
    {
      "cell_type": "code",
      "execution_count": null,
      "id": "bdfd3a80",
      "metadata": {
        "id": "bdfd3a80",
        "outputId": "e331d894-0c60-4a74-b4d5-74997c89eb51"
      },
      "outputs": [
        {
          "name": "stdout",
          "output_type": "stream",
          "text": [
            "[[11, 12, 5, 'r'], [15, 6, 10], 'String_Value', [10, 8, 12, 5], [12, 15, 8, 6]]\n"
          ]
        }
      ],
      "source": [
        "# Updating Values\n",
        "T[2] = \"String_Value\"\n",
        "T[0][3] = \"r\"\n",
        "\n",
        "print(T)\n"
      ]
    },
    {
      "cell_type": "code",
      "execution_count": null,
      "id": "0d4bac9d",
      "metadata": {
        "id": "0d4bac9d"
      },
      "outputs": [],
      "source": [
        "#Deleting the Values\n",
        "\n",
        "del T[0][3]\n"
      ]
    },
    {
      "cell_type": "code",
      "execution_count": null,
      "id": "0379c4ae",
      "metadata": {
        "id": "0379c4ae",
        "outputId": "d298cba7-31e9-4638-9473-63e962c81739"
      },
      "outputs": [
        {
          "name": "stdout",
          "output_type": "stream",
          "text": [
            "[[11, 12, 5], [15, 6, 10], 'String_Value', [10, 8, 12, 5], [12, 15, 8, 6]]\n"
          ]
        }
      ],
      "source": [
        "print(T)"
      ]
    },
    {
      "cell_type": "markdown",
      "id": "d79317dc",
      "metadata": {
        "id": "d79317dc"
      },
      "source": [
        "##### Working with python dictionaries\n",
        "\n",
        "Dictionaries allow us to work with key value pairs. Where key is the unique identifier where we can find our data and value is that data it self. We can think of it as real dictionary.\n"
      ]
    },
    {
      "cell_type": "code",
      "source": [
        "student = {'name':'Rabya', 'age': 33.9, '####' : 33.6 ,'phone': 75 , 'courses': ('maths', 'science')}\n",
        "print(student['age'])\n",
        "#print(student['number'])\n",
        "\n",
        "#print(student.get('phone'))\n",
        "print(student.get('####', 'NULL'))\n",
        "print(type(student))"
      ],
      "metadata": {
        "colab": {
          "base_uri": "https://localhost:8080/"
        },
        "id": "NkQ5J-FqaXIW",
        "outputId": "20f6f332-e890-4c7e-89eb-b7b3632562be"
      },
      "id": "NkQ5J-FqaXIW",
      "execution_count": null,
      "outputs": [
        {
          "output_type": "stream",
          "name": "stdout",
          "text": [
            "33.9\n",
            "33.6\n",
            "<class 'dict'>\n"
          ]
        }
      ]
    },
    {
      "cell_type": "code",
      "execution_count": null,
      "id": "8c2cff4e",
      "metadata": {
        "id": "8c2cff4e",
        "outputId": "5999ab28-02dd-4a1d-86a7-396d318996c9"
      },
      "outputs": [
        {
          "name": "stdout",
          "output_type": "stream",
          "text": [
            "33\n",
            "None\n",
            "Not found\n",
            "{'name': 'Sayed', 'age': 33, 'courses': ['maths', 'science'], 'phone': 55555}\n",
            "{'name': 'Khan', 'age': 40, 'courses': ['english', 'urdu'], 'phone': 55555}\n",
            "{'name': 'Khan', 'age': 40, 'phone': 55555}\n",
            "{'name': 'Khan', 'phone': 55555}\n",
            "2\n",
            "dict_keys(['name', 'phone'])\n",
            "dict_values(['Khan', 55555])\n",
            "dict_items([('name', 'Khan'), ('phone', 55555)])\n",
            "name Khan\n",
            "phone 55555\n"
          ]
        }
      ],
      "source": [
        "# Example: We want to represent a student using a dictionary\n",
        "\n",
        "# dictionary_name = {key:value, as many as required}\n",
        "# Key can be an integer or a string\n",
        "\n",
        "student = {'name':'Rabya', 'age': 33, 'courses': ['maths', 'science']}\n",
        "print(student['age'])\n",
        "\n",
        "# print(student['phone']) error\n",
        "\n",
        "print(student.get('phone')) # return none\n",
        "\n",
        "print(student.get('phone', 'Not found')) #customized message\n",
        "\n",
        "# add an element in the dictionary\n",
        "\n",
        "student['phone'] = 55555 # new value\n",
        "\n",
        "student['name'] = 'Sayed' # update the value\n",
        "\n",
        "print(student)\n",
        "\n",
        "# another way to update a value is using the update method\n",
        "\n",
        "student.update({'name':'Khan', 'age': 40, 'courses': ['english', 'urdu']})\n",
        "\n",
        "print(student)\n",
        "\n",
        "# delete a key from the dictionary\n",
        "\n",
        "del student['courses']\n",
        "\n",
        "print(student)\n",
        "\n",
        "# another way to delete will be to pop the value and it will also return this value\n",
        "\n",
        "age = student.pop('age')\n",
        "\n",
        "\n",
        "print(student)\n",
        "\n",
        "#loop through the values of keys in dictionary\n",
        "\n",
        "print(len(student)) # total elements\n",
        "\n",
        "print(student.keys()) # only keys\n",
        "\n",
        "print(student.values()) # only values\n",
        "\n",
        "print(student.items()) # show both, key value pairs\n",
        "\n",
        "for key, value in student.items():\n",
        "    print(key, value)"
      ]
    },
    {
      "cell_type": "markdown",
      "id": "2f78b9f0",
      "metadata": {
        "id": "2f78b9f0"
      },
      "source": [
        "##### Python Basics Lesson - 3\n",
        "\n",
        "1. Conditional statements (if-else)\n",
        "2. Complex conditional statements (nested - ifs)\n",
        "3. For loop\n",
        "4. Iterating through the data structures using for loop"
      ]
    },
    {
      "cell_type": "markdown",
      "id": "c804ebeb",
      "metadata": {
        "id": "c804ebeb"
      },
      "source": [
        "##### The if statement\n",
        "\n",
        "if (Condition):(statement)\n",
        "If the the condition comes out to be true only then the statement is executed."
      ]
    },
    {
      "cell_type": "code",
      "execution_count": null,
      "id": "51a1febe",
      "metadata": {
        "id": "51a1febe",
        "outputId": "513f98f1-18d2-43c6-c2bc-3edfe843b66f"
      },
      "outputs": [
        {
          "name": "stdout",
          "output_type": "stream",
          "text": [
            "Enter a positive or negative number: -4478\n",
            "-4478  is a negative number!\n"
          ]
        }
      ],
      "source": [
        "# Example\n",
        "\n",
        "num = int(input(\"Enter a positive or negative number: \"))\n",
        "\n",
        "#check if num is greater then 0\n",
        "if num > 0: print (num, \" is a positive number!\")\n",
        "\n",
        "#check if num is less then 0\n",
        "if num < 0: print (num, \" is a negative number!\")\n"
      ]
    },
    {
      "cell_type": "markdown",
      "id": "2281e635",
      "metadata": {
        "id": "2281e635"
      },
      "source": [
        "##### If… Else\n",
        "\n",
        "We can use If…Else when we need to have a block of code executed even when the Boolean test returns a negative."
      ]
    },
    {
      "cell_type": "code",
      "execution_count": null,
      "id": "b9073955",
      "metadata": {
        "id": "b9073955",
        "outputId": "5309f3df-a4ee-45af-8b74-dcaafec36a1e"
      },
      "outputs": [
        {
          "name": "stdout",
          "output_type": "stream",
          "text": [
            "Enter the price of the item: 7678\n",
            "The discount is  767.8000000000001\n",
            "You will pay  6910.2 in total.\n"
          ]
        }
      ],
      "source": [
        "#A Program to determine the rate of discount based on price\n",
        "\n",
        "price = int(input(\"Enter the price of the item: \"))\n",
        "\n",
        "if price < 100:\n",
        "    discount = (price * 0.05)\n",
        "    print (\"The discount is \", discount)\n",
        "else:\n",
        "    discount = (price * 0.1)\n",
        "    print (\"The discount is \", discount)\n",
        "\n",
        "print (\"You will pay \", price - discount,\"in total.\")"
      ]
    },
    {
      "cell_type": "markdown",
      "id": "ddc6a734",
      "metadata": {
        "id": "ddc6a734"
      },
      "source": [
        "##### Elif\n",
        "\n",
        "A step from the If…else statement is the Elif\n",
        "This statement allows the program to check multiple expressions and executes a block of code when one of the conditions returns TRUE."
      ]
    },
    {
      "cell_type": "code",
      "execution_count": null,
      "id": "82d3afc7",
      "metadata": {
        "id": "82d3afc7",
        "outputId": "cd229355-72d7-46af-bc7b-ea7c535f18c6"
      },
      "outputs": [
        {
          "name": "stdout",
          "output_type": "stream",
          "text": [
            "Enter the price: 600\n",
            "The discount is  120.0\n",
            "The final price of the item is  480.0\n"
          ]
        }
      ],
      "source": [
        "#Program to determine the rate of discount based on price\n",
        "price = int(input(\"Enter the price: \"))\n",
        "\n",
        "if price < 100:\n",
        "    discount = (price * 0.05)\n",
        "    print (\"The discount is \", discount)\n",
        "elif price < 500:\n",
        "    discount = (price * 0.1)\n",
        "    print (\"The discount is \", discount)\n",
        "elif price < 1000:\n",
        "    discount = (price * 0.2)\n",
        "    print (\"The discount is \", discount)\n",
        "else:\n",
        "    discount = (price * 0.25)\n",
        "    print (\"The discount is \", discount)\n",
        "\n",
        "print (\"The final price of the item is \", price - discount)"
      ]
    },
    {
      "cell_type": "markdown",
      "id": "0433b368",
      "metadata": {
        "id": "0433b368"
      },
      "source": [
        "##### 2. Complex conditional statements (Nested IF )\n",
        "\n",
        "In situations where you want to write a program that checks for another condition after a condition is resolved to be True, you can use a nested IF construct. The nested if has the If… Elif…. Else construct within other If… Elif… Else constructs."
      ]
    },
    {
      "cell_type": "code",
      "execution_count": null,
      "id": "8558f3f8",
      "metadata": {
        "id": "8558f3f8",
        "outputId": "79f3bd81-a0da-46de-9070-b83caf45a523"
      },
      "outputs": [
        {
          "name": "stdout",
          "output_type": "stream",
          "text": [
            "Enter a number to check divisibility: 19\n",
            "Neither divisible by 2 nor 3 \n"
          ]
        }
      ],
      "source": [
        "#A program to check if a number is divisible by 3 and 2\n",
        "\n",
        "num = int(input(\"Enter a number to check divisibility: \"))\n",
        "\n",
        "if num % 2 == 0:\n",
        "    if num % 3 == 0:\n",
        "        print(\"Divisible by 2 and 3\")\n",
        "    else:\n",
        "        print (\"Divisible by 2 but not by 3\")\n",
        "else:\n",
        "    if num % 3 == 0:\n",
        "        print (\"Divisible by 3 but not by 2\")\n",
        "    else:\n",
        "        print (\"Neither divisible by 2 nor 3 \")"
      ]
    },
    {
      "cell_type": "code",
      "execution_count": null,
      "id": "7976df0d",
      "metadata": {
        "id": "7976df0d"
      },
      "outputs": [],
      "source": [
        "#Let the students identify how to add a nested if for checking if a value is equal to zero.\n",
        "num = 15\n",
        "if num >= 0:\n",
        "    '''if num == 0:\n",
        "       print(\"Zero\")\n",
        "    else:\n",
        "        print(\"Positive number\") '''\n",
        "else:\n",
        "    print(\"Negative number\")"
      ]
    },
    {
      "cell_type": "markdown",
      "id": "b976fb5e",
      "metadata": {
        "id": "b976fb5e"
      },
      "source": [
        "##### 3.  For Loop\n",
        "\n",
        "With the for loop we can execute a set of statements, once for each item in a list, tuple, set etc.\n",
        "\n",
        "Syntax - for <variable> in <sequence>: <statements>"
      ]
    },
    {
      "cell_type": "code",
      "source": [
        "a= 4\n",
        "b= \"mahnoor\"\n",
        "c=5.6\n",
        "#lists #tuples #sets #dictionaries"
      ],
      "metadata": {
        "id": "K5JmztlWXVqj"
      },
      "id": "K5JmztlWXVqj",
      "execution_count": null,
      "outputs": []
    },
    {
      "cell_type": "code",
      "execution_count": null,
      "id": "fa4e7811",
      "metadata": {
        "colab": {
          "base_uri": "https://localhost:8080/"
        },
        "id": "fa4e7811",
        "outputId": "0934baef-2176-4d75-c728-3f5654e38137"
      },
      "outputs": [
        {
          "output_type": "stream",
          "name": "stdout",
          "text": [
            "23 odd\n",
            "33 divisibke by 3\n",
            "565 odd\n",
            "9 divisibke by 3\n"
          ]
        }
      ],
      "source": [
        "# Examples\n",
        "\n",
        "# for x in range(10):print (x)\n",
        "\n",
        "\n",
        "fruits = [\"Apples\", \"Mangoes\", \"Peaches\", \"Oranges\", \"Bananas\"]\n",
        "\n",
        "#for x in fruits:\n",
        " #   print (x)\n",
        "\n",
        "marks=[23,33,565,9]\n",
        "for x in marks:\n",
        "  if x % 2==0:\n",
        "    print(x,\"even number\")\n",
        "  if x % 3==0:\n",
        "    print(x,\"divisibke by 3\")\n",
        "  else:\n",
        "    print(x, \"odd\")\n",
        "\n",
        "\n",
        "#for (pos, item) in enumerate(fruits):print(pos, item)\n"
      ]
    },
    {
      "cell_type": "code",
      "source": [
        "marks=[23,34,565,78]\n",
        "print(marks[1])\n",
        "marks[1]=36\n",
        "print(marks[1])"
      ],
      "metadata": {
        "colab": {
          "base_uri": "https://localhost:8080/"
        },
        "id": "M9IqPPJ4h7UB",
        "outputId": "6fafaff9-80e6-4c5d-9049-0c6ad1da1f03"
      },
      "id": "M9IqPPJ4h7UB",
      "execution_count": null,
      "outputs": [
        {
          "output_type": "stream",
          "name": "stdout",
          "text": [
            "34\n",
            "36\n"
          ]
        }
      ]
    },
    {
      "cell_type": "code",
      "execution_count": null,
      "id": "470b0a40",
      "metadata": {
        "id": "470b0a40",
        "outputId": "74ea174e-4cae-4f1f-9532-61544e3e9e1f"
      },
      "outputs": [
        {
          "name": "stdout",
          "output_type": "stream",
          "text": [
            "\n",
            "List after Addition of Three elements: \n",
            "[1, 2, 4]\n",
            "\n",
            "List after Addition of elements from 1-3: \n",
            "[1, 2, 4, 1, 2, 3, 4]\n"
          ]
        }
      ],
      "source": [
        "# Examples\n",
        "\n",
        "# Addition of elements in a List\n",
        "\n",
        "# Creating a List\n",
        "List = []\n",
        "\n",
        "# Addition of Elements in the List without using loop\n",
        "List.append(1)\n",
        "List.append(2)\n",
        "List.append(4)\n",
        "print(\"\\nList after Addition of Three elements: \")\n",
        "print(List)\n",
        "\n",
        "# Adding elements to the List using Iterator\n",
        "for i in range(1, 5):\n",
        "    List.append(i)\n",
        "print(\"\\nList after Addition of elements from 1-3: \")\n",
        "print(List)"
      ]
    },
    {
      "cell_type": "code",
      "execution_count": null,
      "id": "80d7c2e7",
      "metadata": {
        "id": "80d7c2e7",
        "outputId": "898c8950-6bba-4954-fb42-08e5fbda490c"
      },
      "outputs": [
        {
          "name": "stdout",
          "output_type": "stream",
          "text": [
            "\n",
            "Person ID: 1\n",
            "Name: John\n",
            "Age: 27\n",
            "Sex: Male\n",
            "\n",
            "Person ID: 2\n",
            "Name: Marie\n",
            "Age: 22\n",
            "Sex: Female\n"
          ]
        }
      ],
      "source": [
        "# Iterating through the nested dictionaries using the loop\n",
        "\n",
        "people = {1: {'Name': 'John', 'Age': '27', 'Sex': 'Male'},\n",
        "          2: {'Name': 'Marie', 'Age': '22', 'Sex': 'Female'}}\n",
        "\n",
        "for p_id, p_info in people.items():\n",
        "    print(\"\\nPerson ID:\", p_id)\n",
        "\n",
        "    for key in p_info:\n",
        "        print(key + ':', p_info[key])"
      ]
    },
    {
      "cell_type": "markdown",
      "id": "4263a7e5",
      "metadata": {
        "id": "4263a7e5"
      },
      "source": [
        "##### Else statement with the for loop\n",
        "\n",
        "Sometimes we do not have to iterate through the whole list and its the first encounter that gives the idea of how the list looks like."
      ]
    },
    {
      "cell_type": "code",
      "execution_count": null,
      "id": "29f2c5ff",
      "metadata": {
        "id": "29f2c5ff",
        "outputId": "b7a09df0-76ae-4794-a62b-719282fc7dc4"
      },
      "outputs": [
        {
          "name": "stdout",
          "output_type": "stream",
          "text": [
            "The list does not contain even numbers\n"
          ]
        }
      ],
      "source": [
        "\n",
        "\n",
        "for num in numbers:\n",
        "    if num %2 == 0:\n",
        "        print (\"The list contains an even number\")\n",
        "        break\n",
        "else:\n",
        "    print (\"The list does not contain even numbers\")"
      ]
    },
    {
      "cell_type": "markdown",
      "id": "d0e287be",
      "metadata": {
        "id": "d0e287be"
      },
      "source": [
        "##### Loop Control Statements\n",
        "\n",
        "When you want to change execution from a normal sequence in a loop, you use loop control statements. Python supports break and continue loop control statements."
      ]
    },
    {
      "cell_type": "code",
      "execution_count": null,
      "id": "2bc55573",
      "metadata": {
        "colab": {
          "base_uri": "https://localhost:8080/"
        },
        "id": "2bc55573",
        "outputId": "8c74e61b-b253-45b4-8cd2-191cdb441781"
      },
      "outputs": [
        {
          "output_type": "stream",
          "name": "stdout",
          "text": [
            "P\n",
            "y\n",
            "t\n",
            "Out of for loop\n"
          ]
        }
      ],
      "source": [
        "# 1. Break statement\n",
        "\n",
        "s = 'Python for data science'\n",
        "\n",
        "# Using for loop\n",
        "for letter in s:\n",
        "\n",
        "    print(letter)\n",
        "    # break the loop as soon it sees 'd'\n",
        "    # or 's'\n",
        "    if letter == 't' or letter == 's':\n",
        "        break\n",
        "\n",
        "print(\"Out of for loop\")"
      ]
    },
    {
      "cell_type": "code",
      "source": [
        "s= \"python is good\"\n",
        "for x in s:\n",
        "    print(x)\n",
        "    if x==\"t\" or x==\"0\":\n",
        "      break\n",
        "print(\"i am ot of loop\")"
      ],
      "metadata": {
        "colab": {
          "base_uri": "https://localhost:8080/"
        },
        "id": "3Eq5Ib-yluqL",
        "outputId": "b61e99d6-964c-49a3-8a12-e246eb0a6ccc"
      },
      "id": "3Eq5Ib-yluqL",
      "execution_count": null,
      "outputs": [
        {
          "output_type": "stream",
          "name": "stdout",
          "text": [
            "p\n",
            "y\n",
            "t\n",
            "i am ot of loop\n"
          ]
        }
      ]
    },
    {
      "cell_type": "code",
      "execution_count": null,
      "id": "ab8ec9b1",
      "metadata": {
        "colab": {
          "base_uri": "https://localhost:8080/"
        },
        "id": "ab8ec9b1",
        "outputId": "63237db7-b6c0-4ba6-e035-06fe6db924ff"
      },
      "outputs": [
        {
          "output_type": "stream",
          "name": "stdout",
          "text": [
            "1 2 3 4 5 7 8 9 "
          ]
        }
      ],
      "source": [
        "# 2. Continue statement\n",
        "#The continue statement causes the loop to skip the remaining part of the block of\n",
        "#code and immediately retests the condition before the reiteration.\n",
        "\n",
        "# loop from 1 to 10\n",
        "for i in range(1, 10):\n",
        "\n",
        "    # If i is equals to 6,\n",
        "    # continue to next iteration\n",
        "    # without printing\n",
        "    if i == 6:\n",
        "        continue\n",
        "    else:\n",
        "        # otherwise print the value\n",
        "        # of i\n",
        "        print(i, end = \" \")"
      ]
    },
    {
      "cell_type": "code",
      "execution_count": null,
      "id": "7ad09f9d",
      "metadata": {
        "id": "7ad09f9d"
      },
      "outputs": [],
      "source": []
    }
  ],
  "metadata": {
    "kernelspec": {
      "display_name": "Python 3 (ipykernel)",
      "language": "python",
      "name": "python3"
    },
    "language_info": {
      "codemirror_mode": {
        "name": "ipython",
        "version": 3
      },
      "file_extension": ".py",
      "mimetype": "text/x-python",
      "name": "python",
      "nbconvert_exporter": "python",
      "pygments_lexer": "ipython3",
      "version": "3.9.13"
    },
    "colab": {
      "provenance": []
    }
  },
  "nbformat": 4,
  "nbformat_minor": 5
}